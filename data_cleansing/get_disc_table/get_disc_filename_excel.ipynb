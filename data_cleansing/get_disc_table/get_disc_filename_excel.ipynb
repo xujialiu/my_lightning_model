{
 "cells": [
  {
   "cell_type": "markdown",
   "metadata": {},
   "source": [
    "这个文件是用来获取disc文件夹的所有文件名, 并根据文件名进行解析为pid, eye, date, time, 并保存到disc_table.xlsx文件中。"
   ]
  },
  {
   "cell_type": "code",
   "execution_count": 1,
   "metadata": {},
   "outputs": [],
   "source": [
    "import os\n",
    "import pandas as pd\n",
    "\n",
    "\n",
    "def image_filenames_to_excel(folder_path, output_excel_path):\n",
    "    # 获取文件夹中所有文件\n",
    "    files = os.listdir(folder_path)\n",
    "\n",
    "    # 过滤出图片文件 (你可能需要根据实际情况调整这个列表)\n",
    "    image_extensions = [\".jpg\", \".jpeg\", \".png\", \".gif\", \".bmp\", \".tif\"]\n",
    "    image_files = [\n",
    "        f for f in files if os.path.splitext(f)[1].lower() in image_extensions\n",
    "    ]\n",
    "\n",
    "    # 创建DataFrame\n",
    "    df = pd.DataFrame({\"disc_filename\": image_files})\n",
    "\n",
    "    return df"
   ]
  },
  {
   "cell_type": "code",
   "execution_count": 2,
   "metadata": {},
   "outputs": [],
   "source": [
    "folder_path = \"/home/xujialiu/mnt-4T-xujialiu/my_lightning_model/xujialiu-mnt-4t/data_disc_all\"  # 替换为你的图片文件夹路径\n",
    "output_excel_path = \"image_filenames.xlsx\"  # 输出的Excel文件名\n",
    "\n",
    "df = image_filenames_to_excel(folder_path, output_excel_path)"
   ]
  },
  {
   "cell_type": "code",
   "execution_count": 3,
   "metadata": {},
   "outputs": [
    {
     "data": {
      "text/html": [
       "<div>\n",
       "<style scoped>\n",
       "    .dataframe tbody tr th:only-of-type {\n",
       "        vertical-align: middle;\n",
       "    }\n",
       "\n",
       "    .dataframe tbody tr th {\n",
       "        vertical-align: top;\n",
       "    }\n",
       "\n",
       "    .dataframe thead th {\n",
       "        text-align: right;\n",
       "    }\n",
       "</style>\n",
       "<table border=\"1\" class=\"dataframe\">\n",
       "  <thead>\n",
       "    <tr style=\"text-align: right;\">\n",
       "      <th></th>\n",
       "      <th>disc_filename</th>\n",
       "    </tr>\n",
       "  </thead>\n",
       "  <tbody>\n",
       "    <tr>\n",
       "      <th>0</th>\n",
       "      <td>STDR076_OS_20151223_121239_Color_001.tif</td>\n",
       "    </tr>\n",
       "    <tr>\n",
       "      <th>1</th>\n",
       "      <td>STDR096_OS_20211109_161758_Color_001.tif</td>\n",
       "    </tr>\n",
       "    <tr>\n",
       "      <th>2</th>\n",
       "      <td>STDR665_OS_20180807_163243_Color_001.tif</td>\n",
       "    </tr>\n",
       "    <tr>\n",
       "      <th>3</th>\n",
       "      <td>STDR190_OD_20230213_102038_Color_001.tif</td>\n",
       "    </tr>\n",
       "    <tr>\n",
       "      <th>4</th>\n",
       "      <td>STDR200_OD_20160513_105630_Color_001.tif</td>\n",
       "    </tr>\n",
       "    <tr>\n",
       "      <th>...</th>\n",
       "      <td>...</td>\n",
       "    </tr>\n",
       "    <tr>\n",
       "      <th>11136</th>\n",
       "      <td>STDR448_OS_20210916_152427_Color_001.tif</td>\n",
       "    </tr>\n",
       "    <tr>\n",
       "      <th>11137</th>\n",
       "      <td>STDR116_OS_20160317_110514_Color_001.tif</td>\n",
       "    </tr>\n",
       "    <tr>\n",
       "      <th>11138</th>\n",
       "      <td>STDR248_OS_20180615_113524_Color_001.tif</td>\n",
       "    </tr>\n",
       "    <tr>\n",
       "      <th>11139</th>\n",
       "      <td>STDR346_OS_20231103_151410_Color_001.tif</td>\n",
       "    </tr>\n",
       "    <tr>\n",
       "      <th>11140</th>\n",
       "      <td>STDR015_OD_20170906_104745_Color_001.tif</td>\n",
       "    </tr>\n",
       "  </tbody>\n",
       "</table>\n",
       "<p>11141 rows × 1 columns</p>\n",
       "</div>"
      ],
      "text/plain": [
       "                                  disc_filename\n",
       "0      STDR076_OS_20151223_121239_Color_001.tif\n",
       "1      STDR096_OS_20211109_161758_Color_001.tif\n",
       "2      STDR665_OS_20180807_163243_Color_001.tif\n",
       "3      STDR190_OD_20230213_102038_Color_001.tif\n",
       "4      STDR200_OD_20160513_105630_Color_001.tif\n",
       "...                                         ...\n",
       "11136  STDR448_OS_20210916_152427_Color_001.tif\n",
       "11137  STDR116_OS_20160317_110514_Color_001.tif\n",
       "11138  STDR248_OS_20180615_113524_Color_001.tif\n",
       "11139  STDR346_OS_20231103_151410_Color_001.tif\n",
       "11140  STDR015_OD_20170906_104745_Color_001.tif\n",
       "\n",
       "[11141 rows x 1 columns]"
      ]
     },
     "execution_count": 3,
     "metadata": {},
     "output_type": "execute_result"
    }
   ],
   "source": [
    "df"
   ]
  },
  {
   "cell_type": "code",
   "execution_count": 4,
   "metadata": {},
   "outputs": [
    {
     "data": {
      "text/plain": [
       "0        STDR076\n",
       "1        STDR096\n",
       "2        STDR665\n",
       "3        STDR190\n",
       "4        STDR200\n",
       "          ...   \n",
       "11136    STDR448\n",
       "11137    STDR116\n",
       "11138    STDR248\n",
       "11139    STDR346\n",
       "11140    STDR015\n",
       "Name: disc_filename, Length: 11141, dtype: object"
      ]
     },
     "execution_count": 4,
     "metadata": {},
     "output_type": "execute_result"
    }
   ],
   "source": [
    "df.disc_filename.str.split(\"_\").str[0]"
   ]
  },
  {
   "cell_type": "code",
   "execution_count": 5,
   "metadata": {},
   "outputs": [],
   "source": [
    "df[\"pid\"] = df.disc_filename.str.split(\"_\").str[0]\n",
    "df[\"eye\"] = df.disc_filename.str.split(\"_\").str[1]\n",
    "df[\"date\"] = df.disc_filename.str.split(\"_\").str[2]\n",
    "df[\"time\"] = df.disc_filename.str.split(\"_\").str[3]"
   ]
  },
  {
   "cell_type": "code",
   "execution_count": 6,
   "metadata": {},
   "outputs": [
    {
     "data": {
      "text/html": [
       "<div>\n",
       "<style scoped>\n",
       "    .dataframe tbody tr th:only-of-type {\n",
       "        vertical-align: middle;\n",
       "    }\n",
       "\n",
       "    .dataframe tbody tr th {\n",
       "        vertical-align: top;\n",
       "    }\n",
       "\n",
       "    .dataframe thead th {\n",
       "        text-align: right;\n",
       "    }\n",
       "</style>\n",
       "<table border=\"1\" class=\"dataframe\">\n",
       "  <thead>\n",
       "    <tr style=\"text-align: right;\">\n",
       "      <th></th>\n",
       "      <th>disc_filename</th>\n",
       "      <th>pid</th>\n",
       "      <th>eye</th>\n",
       "      <th>date</th>\n",
       "      <th>time</th>\n",
       "    </tr>\n",
       "  </thead>\n",
       "  <tbody>\n",
       "    <tr>\n",
       "      <th>0</th>\n",
       "      <td>STDR076_OS_20151223_121239_Color_001.tif</td>\n",
       "      <td>STDR076</td>\n",
       "      <td>OS</td>\n",
       "      <td>20151223</td>\n",
       "      <td>121239</td>\n",
       "    </tr>\n",
       "    <tr>\n",
       "      <th>1</th>\n",
       "      <td>STDR096_OS_20211109_161758_Color_001.tif</td>\n",
       "      <td>STDR096</td>\n",
       "      <td>OS</td>\n",
       "      <td>20211109</td>\n",
       "      <td>161758</td>\n",
       "    </tr>\n",
       "    <tr>\n",
       "      <th>2</th>\n",
       "      <td>STDR665_OS_20180807_163243_Color_001.tif</td>\n",
       "      <td>STDR665</td>\n",
       "      <td>OS</td>\n",
       "      <td>20180807</td>\n",
       "      <td>163243</td>\n",
       "    </tr>\n",
       "    <tr>\n",
       "      <th>3</th>\n",
       "      <td>STDR190_OD_20230213_102038_Color_001.tif</td>\n",
       "      <td>STDR190</td>\n",
       "      <td>OD</td>\n",
       "      <td>20230213</td>\n",
       "      <td>102038</td>\n",
       "    </tr>\n",
       "    <tr>\n",
       "      <th>4</th>\n",
       "      <td>STDR200_OD_20160513_105630_Color_001.tif</td>\n",
       "      <td>STDR200</td>\n",
       "      <td>OD</td>\n",
       "      <td>20160513</td>\n",
       "      <td>105630</td>\n",
       "    </tr>\n",
       "    <tr>\n",
       "      <th>...</th>\n",
       "      <td>...</td>\n",
       "      <td>...</td>\n",
       "      <td>...</td>\n",
       "      <td>...</td>\n",
       "      <td>...</td>\n",
       "    </tr>\n",
       "    <tr>\n",
       "      <th>11136</th>\n",
       "      <td>STDR448_OS_20210916_152427_Color_001.tif</td>\n",
       "      <td>STDR448</td>\n",
       "      <td>OS</td>\n",
       "      <td>20210916</td>\n",
       "      <td>152427</td>\n",
       "    </tr>\n",
       "    <tr>\n",
       "      <th>11137</th>\n",
       "      <td>STDR116_OS_20160317_110514_Color_001.tif</td>\n",
       "      <td>STDR116</td>\n",
       "      <td>OS</td>\n",
       "      <td>20160317</td>\n",
       "      <td>110514</td>\n",
       "    </tr>\n",
       "    <tr>\n",
       "      <th>11138</th>\n",
       "      <td>STDR248_OS_20180615_113524_Color_001.tif</td>\n",
       "      <td>STDR248</td>\n",
       "      <td>OS</td>\n",
       "      <td>20180615</td>\n",
       "      <td>113524</td>\n",
       "    </tr>\n",
       "    <tr>\n",
       "      <th>11139</th>\n",
       "      <td>STDR346_OS_20231103_151410_Color_001.tif</td>\n",
       "      <td>STDR346</td>\n",
       "      <td>OS</td>\n",
       "      <td>20231103</td>\n",
       "      <td>151410</td>\n",
       "    </tr>\n",
       "    <tr>\n",
       "      <th>11140</th>\n",
       "      <td>STDR015_OD_20170906_104745_Color_001.tif</td>\n",
       "      <td>STDR015</td>\n",
       "      <td>OD</td>\n",
       "      <td>20170906</td>\n",
       "      <td>104745</td>\n",
       "    </tr>\n",
       "  </tbody>\n",
       "</table>\n",
       "<p>11141 rows × 5 columns</p>\n",
       "</div>"
      ],
      "text/plain": [
       "                                  disc_filename      pid eye      date    time\n",
       "0      STDR076_OS_20151223_121239_Color_001.tif  STDR076  OS  20151223  121239\n",
       "1      STDR096_OS_20211109_161758_Color_001.tif  STDR096  OS  20211109  161758\n",
       "2      STDR665_OS_20180807_163243_Color_001.tif  STDR665  OS  20180807  163243\n",
       "3      STDR190_OD_20230213_102038_Color_001.tif  STDR190  OD  20230213  102038\n",
       "4      STDR200_OD_20160513_105630_Color_001.tif  STDR200  OD  20160513  105630\n",
       "...                                         ...      ...  ..       ...     ...\n",
       "11136  STDR448_OS_20210916_152427_Color_001.tif  STDR448  OS  20210916  152427\n",
       "11137  STDR116_OS_20160317_110514_Color_001.tif  STDR116  OS  20160317  110514\n",
       "11138  STDR248_OS_20180615_113524_Color_001.tif  STDR248  OS  20180615  113524\n",
       "11139  STDR346_OS_20231103_151410_Color_001.tif  STDR346  OS  20231103  151410\n",
       "11140  STDR015_OD_20170906_104745_Color_001.tif  STDR015  OD  20170906  104745\n",
       "\n",
       "[11141 rows x 5 columns]"
      ]
     },
     "execution_count": 6,
     "metadata": {},
     "output_type": "execute_result"
    }
   ],
   "source": [
    "df"
   ]
  },
  {
   "cell_type": "code",
   "execution_count": 7,
   "metadata": {},
   "outputs": [],
   "source": [
    "df[\"date\"] = pd.to_datetime(df.date, format=r\"%Y%m%d\")"
   ]
  },
  {
   "cell_type": "code",
   "execution_count": 8,
   "metadata": {},
   "outputs": [
    {
     "data": {
      "text/plain": [
       "0       1900-01-01 12:12:39\n",
       "1       1900-01-01 16:17:58\n",
       "2       1900-01-01 16:32:43\n",
       "3       1900-01-01 10:20:38\n",
       "4       1900-01-01 10:56:30\n",
       "                ...        \n",
       "11136   1900-01-01 15:24:27\n",
       "11137   1900-01-01 11:05:14\n",
       "11138   1900-01-01 11:35:24\n",
       "11139   1900-01-01 15:14:10\n",
       "11140   1900-01-01 10:47:45\n",
       "Name: time, Length: 11141, dtype: datetime64[ns]"
      ]
     },
     "execution_count": 8,
     "metadata": {},
     "output_type": "execute_result"
    }
   ],
   "source": [
    "pd.to_datetime(df[\"time\"], format=r\"%H%M%S\")"
   ]
  },
  {
   "cell_type": "code",
   "execution_count": 9,
   "metadata": {},
   "outputs": [],
   "source": [
    "df[\"time\"] = df[\"time\"].apply(lambda x: \":\".join([x[:2], x[2:4], x[4:]]))"
   ]
  },
  {
   "cell_type": "code",
   "execution_count": 10,
   "metadata": {},
   "outputs": [],
   "source": [
    "df[\"date\"] = df[\"date\"].astype(str)"
   ]
  },
  {
   "cell_type": "code",
   "execution_count": 39,
   "metadata": {},
   "outputs": [],
   "source": [
    "df.to_excel(\"disc_table.xlsx\")"
   ]
  }
 ],
 "metadata": {
  "kernelspec": {
   "display_name": "pytorch",
   "language": "python",
   "name": "python3"
  },
  "language_info": {
   "codemirror_mode": {
    "name": "ipython",
    "version": 3
   },
   "file_extension": ".py",
   "mimetype": "text/x-python",
   "name": "python",
   "nbconvert_exporter": "python",
   "pygments_lexer": "ipython3",
   "version": "3.11.9"
  }
 },
 "nbformat": 4,
 "nbformat_minor": 2
}
